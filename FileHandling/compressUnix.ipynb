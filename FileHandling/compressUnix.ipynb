{
 "cells": [
  {
   "cell_type": "markdown",
   "metadata": {},
   "source": [
    "Compress to .Z file"
   ]
  },
  {
   "cell_type": "code",
   "execution_count": null,
   "metadata": {},
   "outputs": [],
   "source": [
    "import zlib\n",
    "\n",
    "original_data = open('hello.txt', 'rb').read()\n",
    "compressed_data = zlib.compress(original_data, zlib.Z_BEST_COMPRESSION)\n",
    "\n",
    "compress_ratio = (float(len(original_data)) - float(len(compressed_data))) / float(len(original_data))\n",
    "\n",
    "print('Compressed: %d%%' % (100.0 * compress_ratio))"
   ]
  },
  {
   "cell_type": "code",
   "execution_count": null,
   "metadata": {},
   "outputs": [],
   "source": [
    "f = open('I406604070500HU.Z', 'w')\n",
    "f.write(str(compressed_data))\n",
    "f.close()"
   ]
  },
  {
   "cell_type": "markdown",
   "metadata": {},
   "source": [
    "Uncompress a .z file"
   ]
  },
  {
   "cell_type": "code",
   "execution_count": null,
   "metadata": {},
   "outputs": [],
   "source": [
    "\n",
    "import unlzw3\n",
    "from pathlib import Path\n",
    "\n",
    "uncompressed_data = str(unlzw3.unlzw(Path('I000203180345DU.Z')))\n",
    "data = uncompressed_data.split('\\n')\n",
    "print(data[0])\n",
    "for item in data:\n",
    "    print(item)"
   ]
  }
 ],
 "metadata": {
  "interpreter": {
   "hash": "20fa438e2204defeb5e975f7417c58cc1a3d2362ae72b0075dbde1bf800f2f93"
  },
  "kernelspec": {
   "display_name": "Python 3.9.7 64-bit",
   "language": "python",
   "name": "python3"
  },
  "language_info": {
   "codemirror_mode": {
    "name": "ipython",
    "version": 3
   },
   "file_extension": ".py",
   "mimetype": "text/x-python",
   "name": "python",
   "nbconvert_exporter": "python",
   "pygments_lexer": "ipython3",
   "version": "3.9.7"
  },
  "orig_nbformat": 4
 },
 "nbformat": 4,
 "nbformat_minor": 2
}
