{
 "cells": [
  {
   "cell_type": "code",
   "execution_count": 5,
   "metadata": {},
   "outputs": [
    {
     "ename": "TypeError",
     "evalue": "'int' object is not iterable",
     "output_type": "error",
     "traceback": [
      "\u001b[1;31m---------------------------------------------------------------------------\u001b[0m",
      "\u001b[1;31mTypeError\u001b[0m                                 Traceback (most recent call last)",
      "\u001b[1;32md:\\Workspace\\Python\\Learning\\Collections\\Set.ipynb Cell 1\u001b[0m line \u001b[0;36m2\n\u001b[0;32m      <a href='vscode-notebook-cell:/d%3A/Workspace/Python/Learning/Collections/Set.ipynb#W0sZmlsZQ%3D%3D?line=0'>1</a>\u001b[0m s \u001b[39m=\u001b[39m {}\n\u001b[1;32m----> <a href='vscode-notebook-cell:/d%3A/Workspace/Python/Learning/Collections/Set.ipynb#W0sZmlsZQ%3D%3D?line=1'>2</a>\u001b[0m s\u001b[39m.\u001b[39;49mupdate(\u001b[39m1\u001b[39;49m)\n",
      "\u001b[1;31mTypeError\u001b[0m: 'int' object is not iterable"
     ]
    }
   ],
   "source": [
    "s = {}"
   ]
  },
  {
   "cell_type": "code",
   "execution_count": 2,
   "metadata": {},
   "outputs": [
    {
     "name": "stdout",
     "output_type": "stream",
     "text": [
      "{}\n"
     ]
    }
   ],
   "source": [
    "s.update()\n",
    "print(s)"
   ]
  },
  {
   "cell_type": "code",
   "execution_count": 10,
   "metadata": {},
   "outputs": [
    {
     "name": "stdout",
     "output_type": "stream",
     "text": [
      "[1, 2, 3] [1, 2, 3]\n",
      "[1, 2, 3] [1, 5, 3]\n"
     ]
    }
   ],
   "source": [
    "import copy\n",
    "org = [1,2,3]\n",
    "new_l = copy.copy(org)\n",
    "print(new_l, org)\n",
    "# new_l[1] = 0\n",
    "# print(new_l, org)\n",
    "org[1] = 5\n",
    "print(new_l, org)\n"
   ]
  },
  {
   "cell_type": "code",
   "execution_count": 13,
   "metadata": {},
   "outputs": [
    {
     "name": "stdout",
     "output_type": "stream",
     "text": [
      "[[1, 2, 3], [1, 2, 3]] [[1, 2, 3], [1, 2, 3]]\n",
      "[[1, 2, 3], [0, 2, 3]] [[1, 2, 3], [0, 2, 3]]\n",
      "[[1, 2, 3], [0, 5, 3]] [[1, 2, 3], [0, 5, 3]]\n"
     ]
    }
   ],
   "source": [
    "import copy\n",
    "org = [[1,2,3],[1,2,3]]\n",
    "new_l = copy.copy(org)\n",
    "print(new_l, org)\n",
    "new_l[1][0] = 0\n",
    "print(new_l, org)\n",
    "org[1][1] = 5\n",
    "print(new_l, org)\n"
   ]
  },
  {
   "cell_type": "code",
   "execution_count": 32,
   "metadata": {},
   "outputs": [
    {
     "data": {
      "text/plain": [
       "[('h', 'w'), ('e', 'd'), ('l', 's'), ('l', 'u')]"
      ]
     },
     "execution_count": 32,
     "metadata": {},
     "output_type": "execute_result"
    }
   ],
   "source": [
    "mx = ['hell', 'wdsuuyii']\n",
    "[x for x in zip(*mx)]"
   ]
  },
  {
   "cell_type": "code",
   "execution_count": 35,
   "metadata": {},
   "outputs": [
    {
     "data": {
      "text/plain": [
       "[(1, 3, 5, 7), (2, 4, 6, 8)]"
      ]
     },
     "execution_count": 35,
     "metadata": {},
     "output_type": "execute_result"
    }
   ],
   "source": [
    "z = [(1, 2), (3, 4), (5, 6), (7, 8)] # Some output of zip() function\n",
    "unzip = lambda z: list(zip(*z))\n",
    "unzip(z)"
   ]
  },
  {
   "cell_type": "code",
   "execution_count": 57,
   "metadata": {},
   "outputs": [
    {
     "name": "stdout",
     "output_type": "stream",
     "text": [
      "True\n"
     ]
    }
   ],
   "source": [
    "from selenium.webdriver import Chrome\n",
    "from selenium.webdriver.chrome.options import ChromiumOptions\n",
    "from selenium.webdriver.support.ui import WebDriverWait\n",
    "from selenium.webdriver.support import expected_conditions as EC\n",
    "from selenium.webdriver.common.by import By\n",
    "\n",
    "options = ChromiumOptions()\n",
    "# options.add_argument('headless')\n",
    "options.add_argument('start-maximized')\n",
    "driver = Chrome(options)\n",
    "driver.get('https://www.google.com')\n",
    "wait = WebDriverWait(driver=driver, timeout=10)\n",
    "el = wait.until(EC.presence_of_element_located((By.XPATH, '//*[@name=\"q\"]')))\n",
    "el = driver.find_element(By.XPATH, '//*[@name=\"q\"]')\n",
    "print(el.is_displayed())\n",
    "driver.quit()"
   ]
  },
  {
   "cell_type": "code",
   "execution_count": 62,
   "metadata": {},
   "outputs": [
    {
     "name": "stdout",
     "output_type": "stream",
     "text": [
      "{'a': 1, 'b': 2, 'c': 3, 'd': 5}\n"
     ]
    }
   ],
   "source": [
    "d = {'a': 1, 'b': 2}\n",
    "d['c'] = 3\n",
    "d.update({'d': 5})\n",
    "print(d)"
   ]
  },
  {
   "cell_type": "code",
   "execution_count": 64,
   "metadata": {},
   "outputs": [
    {
     "data": {
      "text/plain": [
       "45"
      ]
     },
     "execution_count": 64,
     "metadata": {},
     "output_type": "execute_result"
    }
   ],
   "source": [
    "from functools import reduce\n",
    "reduce(lambda a, x: a + x, range(10))"
   ]
  },
  {
   "cell_type": "code",
   "execution_count": 86,
   "metadata": {},
   "outputs": [
    {
     "name": "stdout",
     "output_type": "stream",
     "text": [
      "True\n"
     ]
    }
   ],
   "source": [
    "def prime(n):\n",
    "    flag = 0\n",
    "    for i in range(2, (n//2)+1):\n",
    "        if n%i == 0:\n",
    "            flag = 1\n",
    "    return flag == 0\n",
    "\n",
    "print(prime(127))"
   ]
  },
  {
   "cell_type": "code",
   "execution_count": 96,
   "metadata": {},
   "outputs": [
    {
     "name": "stdout",
     "output_type": "stream",
     "text": [
      "15\n"
     ]
    }
   ],
   "source": [
    "from functools import reduce\n",
    "factorial = lambda n: reduce(lambda x, y: x+y, range(1, n+1))\n",
    "print(factorial(5))"
   ]
  },
  {
   "cell_type": "code",
   "execution_count": 106,
   "metadata": {},
   "outputs": [
    {
     "name": "stdout",
     "output_type": "stream",
     "text": [
      "[1, 4, 8, 9, 5, 0, 6, 3, 7, 2]\n",
      "0 9\n"
     ]
    }
   ],
   "source": [
    "from random import shuffle\n",
    "a = list(range(10))\n",
    "shuffle(a)\n",
    "print(a)\n",
    "# min, *x , max = sorted(a)\n",
    "# print(min, max)\n",
    "a[0], a[-1] = a[-1]\n"
   ]
  },
  {
   "cell_type": "code",
   "execution_count": 126,
   "metadata": {},
   "outputs": [
    {
     "name": "stdout",
     "output_type": "stream",
     "text": [
      "0\n",
      "1\n",
      "Updated List ['for', 'geeks']\n"
     ]
    }
   ],
   "source": [
    "mylist= [\"geeks\", \"for\", \"geeks\"]\n",
    "word=\"geeks\"\n",
    "n=1\n",
    "count=0\n",
    "for i,val in enumerate(mylist):\n",
    "    print(i)\n",
    "    if val==word:\n",
    "        count=count+1\n",
    "        if(count==n):\n",
    "           del mylist[i]\n",
    "        #    bre\n",
    "print(\"Updated List\", mylist)"
   ]
  }
 ],
 "metadata": {
  "interpreter": {
   "hash": "20fa438e2204defeb5e975f7417c58cc1a3d2362ae72b0075dbde1bf800f2f93"
  },
  "kernelspec": {
   "display_name": "Python 3.9.7 64-bit",
   "language": "python",
   "name": "python3"
  },
  "language_info": {
   "codemirror_mode": {
    "name": "ipython",
    "version": 3
   },
   "file_extension": ".py",
   "mimetype": "text/x-python",
   "name": "python",
   "nbconvert_exporter": "python",
   "pygments_lexer": "ipython3",
   "version": "3.11.4"
  },
  "orig_nbformat": 4
 },
 "nbformat": 4,
 "nbformat_minor": 2
}
