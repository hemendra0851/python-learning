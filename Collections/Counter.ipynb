{
 "cells": [
  {
   "cell_type": "code",
   "execution_count": 1,
   "metadata": {},
   "outputs": [],
   "source": [
    "from collections import Counter"
   ]
  },
  {
   "cell_type": "code",
   "execution_count": 19,
   "metadata": {},
   "outputs": [
    {
     "name": "stdout",
     "output_type": "stream",
     "text": [
      "Counter({3: 3, 1: 2, 2: 2, 6: 2, 4: 1, 5: 1})\n",
      "2\n",
      "dict_values([2, 2, 3, 1, 1, 2])\n",
      "dict_items([(1, 2), (2, 2), (3, 3), (4, 1), (5, 1), (6, 2)])\n",
      "{1: 2, 2: 2, 3: 3, 4: 1, 5: 1, 6: 2}\n"
     ]
    }
   ],
   "source": [
    "my_list = [1, 1, 2, 3, 4, 5, 3, 2, 3, 6, 6]\n",
    "c = Counter(my_list)\n",
    "print(c)\n",
    "print(c.get(1))\n",
    "print(c.values())\n",
    "print(c.items())\n",
    "print(dict(c))"
   ]
  },
  {
   "cell_type": "code",
   "execution_count": 5,
   "metadata": {},
   "outputs": [
    {
     "name": "stdout",
     "output_type": "stream",
     "text": [
      "Counter({'a': 2, 'b': 2, 'c': 2, 'd': 2})\n"
     ]
    }
   ],
   "source": [
    "my_list = ['a', 'b', 'c', 'd', 'a', 'b', 'c', 'd']\n",
    "c = Counter(my_list)\n",
    "print(c)"
   ]
  },
  {
   "cell_type": "code",
   "execution_count": 6,
   "metadata": {},
   "outputs": [
    {
     "name": "stdout",
     "output_type": "stream",
     "text": [
      "Counter({' ': 20, 'a': 13, 'o': 9, 'n': 8, 't': 8, 'e': 7, 'r': 6, 'i': 6, 's': 6, 'l': 5, 'y': 3, 'h': 3, 'c': 3, 'g': 3, 'P': 2, 'f': 2, 'm': 2, 'd': 2, 'w': 2, 'p': 2, 'L': 1, 'k': 1, 'S': 1, 'b': 1, 'u': 1})\n"
     ]
    }
   ],
   "source": [
    "sentence = 'Learn Python like a Professional Start from the basics and go all the way to creating your own applications and games'\n",
    "c = Counter(sentence)\n",
    "print(c)"
   ]
  },
  {
   "cell_type": "code",
   "execution_count": 7,
   "metadata": {},
   "outputs": [
    {
     "name": "stdout",
     "output_type": "stream",
     "text": [
      "Counter({'the': 2, 'and': 2, 'Learn': 1, 'Python': 1, 'like': 1, 'a': 1, 'Professional': 1, 'Start': 1, 'from': 1, 'basics': 1, 'go': 1, 'all': 1, 'way': 1, 'to': 1, 'creating': 1, 'your': 1, 'own': 1, 'applications': 1, 'games': 1})\n"
     ]
    }
   ],
   "source": [
    "c = Counter(sentence.split())\n",
    "print(c)"
   ]
  },
  {
   "cell_type": "code",
   "execution_count": 8,
   "metadata": {},
   "outputs": [
    {
     "name": "stdout",
     "output_type": "stream",
     "text": [
      "Counter({'a': 6, 'v': 4, 'b': 3, 'j': 1, 'y': 1, 'u': 1, 'f': 1, 'd': 1})\n"
     ]
    }
   ],
   "source": [
    "randon_string = 'ajyufavavaaavvbbbd'\n",
    "c = Counter(randon_string)\n",
    "print(c)"
   ]
  },
  {
   "cell_type": "code",
   "execution_count": 9,
   "metadata": {},
   "outputs": [
    {
     "name": "stdout",
     "output_type": "stream",
     "text": [
      "[('a', 6), ('v', 4)]\n"
     ]
    }
   ],
   "source": [
    "print(c.most_common(2))\n"
   ]
  },
  {
   "cell_type": "code",
   "execution_count": 10,
   "metadata": {},
   "outputs": [
    {
     "name": "stdout",
     "output_type": "stream",
     "text": [
      "{'f', 'a', 'v', 'u', 'b', 'y', 'd', 'j'}\n"
     ]
    }
   ],
   "source": [
    "print(set(c))"
   ]
  }
 ],
 "metadata": {
  "interpreter": {
   "hash": "20fa438e2204defeb5e975f7417c58cc1a3d2362ae72b0075dbde1bf800f2f93"
  },
  "kernelspec": {
   "display_name": "Python 3.9.7 64-bit",
   "language": "python",
   "name": "python3"
  },
  "language_info": {
   "codemirror_mode": {
    "name": "ipython",
    "version": 3
   },
   "file_extension": ".py",
   "mimetype": "text/x-python",
   "name": "python",
   "nbconvert_exporter": "python",
   "pygments_lexer": "ipython3",
   "version": "3.11.4"
  },
  "orig_nbformat": 4
 },
 "nbformat": 4,
 "nbformat_minor": 2
}
