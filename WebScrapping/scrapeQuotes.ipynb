{
 "cells": [
  {
   "cell_type": "code",
   "execution_count": 1,
   "metadata": {},
   "outputs": [],
   "source": [
    "import requests\n",
    "import bs4"
   ]
  },
  {
   "cell_type": "code",
   "execution_count": 25,
   "metadata": {},
   "outputs": [],
   "source": [
    "list_of_quotes = []\n",
    "\n",
    "for page in range(1,2):\n",
    "    response = requests.get('http://quotes.toscrape.com/page/' + str(page) + '/')\n",
    "    soup = bs4.BeautifulSoup(response.text, 'lxml')\n",
    "    quotes = soup.select('div.quote')\n",
    "    \n",
    "    for quote in quotes:\n",
    "        get_quote = quote.select('span')[0].text\n",
    "        get_author = (quote.select('span')[1]).select('small')[0].text\n",
    "        list_of_quotes.append((get_quote, get_author))\n",
    "        # print(get_author)\n",
    "    "
   ]
  },
  {
   "cell_type": "code",
   "execution_count": null,
   "metadata": {},
   "outputs": [],
   "source": [
    "print(list_of_quotes)"
   ]
  },
  {
   "cell_type": "markdown",
   "metadata": {},
   "source": [
    "Get List of All Authors in Website"
   ]
  },
  {
   "cell_type": "code",
   "execution_count": 6,
   "metadata": {},
   "outputs": [],
   "source": [
    "list_of_authors = set()\n",
    "page = 1\n",
    "while True:\n",
    "    response = requests.get('http://quotes.toscrape.com/page/' + str(page) + '/')\n",
    "    \n",
    "    soup = bs4.BeautifulSoup(response.text, 'lxml')\n",
    "    quotes = soup.select('div.quote')\n",
    "    \n",
    "    if len(quotes) == 0:\n",
    "        break\n",
    "    \n",
    "    for quote in quotes:\n",
    "        # get_quote = quote.select('span')[0].text\n",
    "        get_author = (quote.select('span')[1]).select('small')[0].text\n",
    "        list_of_authors.add(get_author)\n",
    "    \n",
    "    page += 1\n",
    "    "
   ]
  },
  {
   "cell_type": "code",
   "execution_count": 7,
   "metadata": {},
   "outputs": [
    {
     "name": "stdout",
     "output_type": "stream",
     "text": [
      "['Albert Einstein', 'Alexandre Dumas fils', 'Alfred Tennyson', 'Allen Saunders', 'André Gide', 'Ayn Rand', 'Bob Marley', 'C.S. Lewis', 'Charles Bukowski', 'Charles M. Schulz', 'Douglas Adams', 'Dr. Seuss', 'E.E. Cummings', 'Eleanor Roosevelt', 'Elie Wiesel', 'Ernest Hemingway', 'Friedrich Nietzsche', 'Garrison Keillor', 'George Bernard Shaw', 'George Carlin', 'George Eliot', 'George R.R. Martin', 'Harper Lee', 'Haruki Murakami', 'Helen Keller', 'J.D. Salinger', 'J.K. Rowling', 'J.M. Barrie', 'J.R.R. Tolkien', 'James Baldwin', 'Jane Austen', 'Jim Henson', 'Jimi Hendrix', 'John Lennon', 'Jorge Luis Borges', 'Khaled Hosseini', \"Madeleine L'Engle\", 'Marilyn Monroe', 'Mark Twain', 'Martin Luther King Jr.', 'Mother Teresa', 'Pablo Neruda', 'Ralph Waldo Emerson', 'Stephenie Meyer', 'Steve Martin', 'Suzanne Collins', 'Terry Pratchett', 'Thomas A. Edison', 'W.C. Fields', 'William Nicholson']\n",
      "11\n"
     ]
    }
   ],
   "source": [
    "print(sorted(list_of_authors))\n",
    "print(page)"
   ]
  }
 ],
 "metadata": {
  "interpreter": {
   "hash": "20fa438e2204defeb5e975f7417c58cc1a3d2362ae72b0075dbde1bf800f2f93"
  },
  "kernelspec": {
   "display_name": "Python 3.9.7 64-bit",
   "language": "python",
   "name": "python3"
  },
  "language_info": {
   "codemirror_mode": {
    "name": "ipython",
    "version": 3
   },
   "file_extension": ".py",
   "mimetype": "text/x-python",
   "name": "python",
   "nbconvert_exporter": "python",
   "pygments_lexer": "ipython3",
   "version": "3.9.7"
  },
  "orig_nbformat": 4
 },
 "nbformat": 4,
 "nbformat_minor": 2
}
